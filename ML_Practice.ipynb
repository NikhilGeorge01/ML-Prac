{
  "nbformat": 4,
  "nbformat_minor": 0,
  "metadata": {
    "colab": {
      "provenance": [],
      "authorship_tag": "ABX9TyMFcdoUCvOSM2m+vPLRn8LI",
      "include_colab_link": true
    },
    "kernelspec": {
      "name": "python3",
      "display_name": "Python 3"
    },
    "language_info": {
      "name": "python"
    }
  },
  "cells": [
    {
      "cell_type": "markdown",
      "metadata": {
        "id": "view-in-github",
        "colab_type": "text"
      },
      "source": [
        "<a href=\"https://colab.research.google.com/github/NikhilGeorge01/ML-Prac/blob/main/ML_Practice.ipynb\" target=\"_parent\"><img src=\"https://colab.research.google.com/assets/colab-badge.svg\" alt=\"Open In Colab\"/></a>"
      ]
    },
    {
      "cell_type": "code",
      "source": [
        "import pandas as pd\n"
      ],
      "metadata": {
        "id": "UerINH0E9SS7"
      },
      "execution_count": null,
      "outputs": []
    },
    {
      "cell_type": "code",
      "execution_count": null,
      "metadata": {
        "colab": {
          "base_uri": "https://localhost:8080/"
        },
        "id": "sxyB61Ce9Myt",
        "outputId": "e84d47af-980f-40ef-d8ee-d704c624141e"
      },
      "outputs": [
        {
          "output_type": "stream",
          "name": "stdout",
          "text": [
            "            2014   2015    2016   2017\n",
            "Madhu      100.5  12000   20000  50000\n",
            "Kusum      150.8  18000   50000  60000\n",
            "Kinshuk    200.9  22000   70000  70000\n",
            "Ankit    30000.0  30000  100000  80000\n",
            "Shruti   40000.0  45000  125000  90000\n"
          ]
        }
      ],
      "source": [
        "data = {\n",
        "    2014: [100.5, 150.8, 200.9, 30000, 40000],\n",
        "    2015: [12000, 18000, 22000, 30000, 45000],\n",
        "    2016: [20000, 50000, 70000, 100000, 125000],\n",
        "    2017: [50000, 60000, 70000, 80000, 90000]\n",
        "}\n",
        "\n",
        "sales_persons = ['Madhu', 'Kusum', 'Kinshuk', 'Ankit', 'Shruti']\n",
        "\n",
        "Sales = pd.DataFrame(data, index=sales_persons)\n",
        "print(Sales)\n"
      ]
    },
    {
      "cell_type": "code",
      "source": [
        "print(Sales.index)\n"
      ],
      "metadata": {
        "colab": {
          "base_uri": "https://localhost:8080/"
        },
        "id": "31T6lc8_9XzV",
        "outputId": "585c376e-14c6-4439-efef-6579d22fba72"
      },
      "execution_count": null,
      "outputs": [
        {
          "output_type": "stream",
          "name": "stdout",
          "text": [
            "Index(['Madhu', 'Kusum', 'Kinshuk', 'Ankit', 'Shruti'], dtype='object')\n"
          ]
        }
      ]
    },
    {
      "cell_type": "code",
      "source": [
        "print(Sales.columns)\n"
      ],
      "metadata": {
        "colab": {
          "base_uri": "https://localhost:8080/"
        },
        "id": "2gjdybtg9Pxd",
        "outputId": "4184b10d-f6af-4b8f-f053-eaa3073ef9be"
      },
      "execution_count": null,
      "outputs": [
        {
          "output_type": "stream",
          "name": "stdout",
          "text": [
            "Index([2014, 2015, 2016, 2017], dtype='int64')\n"
          ]
        }
      ]
    },
    {
      "cell_type": "code",
      "source": [
        "print(Sales.dtypes)\n"
      ],
      "metadata": {
        "colab": {
          "base_uri": "https://localhost:8080/"
        },
        "id": "joFjKNu_9VFd",
        "outputId": "eb0c9492-5ac4-4d08-e6d7-5ab58bacf553"
      },
      "execution_count": null,
      "outputs": [
        {
          "output_type": "stream",
          "name": "stdout",
          "text": [
            "2014    float64\n",
            "2015      int64\n",
            "2016      int64\n",
            "2017      int64\n",
            "dtype: object\n"
          ]
        }
      ]
    },
    {
      "cell_type": "code",
      "source": [
        "print(\"Dimensions:\", Sales.ndim)\n",
        "print(\"Shape:\", Sales.shape)\n",
        "print(\"Size:\", Sales.size)\n",
        "print(\"Values:\\n\", Sales.values)\n"
      ],
      "metadata": {
        "colab": {
          "base_uri": "https://localhost:8080/"
        },
        "id": "9KWUGheX9feT",
        "outputId": "0002896a-4dba-4739-dca0-a1b041185958"
      },
      "execution_count": null,
      "outputs": [
        {
          "output_type": "stream",
          "name": "stdout",
          "text": [
            "Dimensions: 2\n",
            "Shape: (5, 4)\n",
            "Size: 20\n",
            "Values:\n",
            " [[1.005e+02 1.200e+04 2.000e+04 5.000e+04]\n",
            " [1.508e+02 1.800e+04 5.000e+04 6.000e+04]\n",
            " [2.009e+02 2.200e+04 7.000e+04 7.000e+04]\n",
            " [3.000e+04 3.000e+04 1.000e+05 8.000e+04]\n",
            " [4.000e+04 4.500e+04 1.250e+05 9.000e+04]]\n"
          ]
        }
      ]
    },
    {
      "cell_type": "code",
      "source": [
        "print(Sales.tail(2))\n"
      ],
      "metadata": {
        "colab": {
          "base_uri": "https://localhost:8080/"
        },
        "id": "SNKoLMGJ9hV4",
        "outputId": "c9ffa6aa-eb51-44e3-b7fc-2e77dd705f97"
      },
      "execution_count": null,
      "outputs": [
        {
          "output_type": "stream",
          "name": "stdout",
          "text": [
            "           2014   2015    2016   2017\n",
            "Ankit   30000.0  30000  100000  80000\n",
            "Shruti  40000.0  45000  125000  90000\n"
          ]
        }
      ]
    },
    {
      "cell_type": "code",
      "source": [
        "print(Sales.iloc[:, :2])\n"
      ],
      "metadata": {
        "colab": {
          "base_uri": "https://localhost:8080/"
        },
        "id": "-y59ZtXu9w_w",
        "outputId": "a3410346-2295-4c35-eadb-33d2e7a4c285"
      },
      "execution_count": null,
      "outputs": [
        {
          "output_type": "stream",
          "name": "stdout",
          "text": [
            "            2014   2015\n",
            "Madhu      100.5  12000\n",
            "Kusum      150.8  18000\n",
            "Kinshuk    200.9  22000\n",
            "Ankit    30000.0  30000\n",
            "Shruti   40000.0  45000\n"
          ]
        }
      ]
    },
    {
      "cell_type": "code",
      "source": [
        "data_2018 = {\n",
        "    'Madhu': 160000,\n",
        "    'Kusum': 110000,\n",
        "    'Kinshuk': 500000,\n",
        "    'Ankit': 340000,\n",
        "    'Shruti': 900000\n",
        "}\n",
        "Sales2 = pd.DataFrame({2018: data_2018})\n",
        "print(Sales2)\n"
      ],
      "metadata": {
        "colab": {
          "base_uri": "https://localhost:8080/"
        },
        "id": "b_Q22ui798eP",
        "outputId": "66989ee8-8c4e-4bba-e2aa-91bca04a32ad"
      },
      "execution_count": null,
      "outputs": [
        {
          "output_type": "stream",
          "name": "stdout",
          "text": [
            "           2018\n",
            "Madhu    160000\n",
            "Kusum    110000\n",
            "Kinshuk  500000\n",
            "Ankit    340000\n",
            "Shruti   900000\n"
          ]
        }
      ]
    },
    {
      "cell_type": "code",
      "source": [],
      "metadata": {
        "id": "zkZLflKo-5cX"
      },
      "execution_count": null,
      "outputs": []
    }
  ]
}