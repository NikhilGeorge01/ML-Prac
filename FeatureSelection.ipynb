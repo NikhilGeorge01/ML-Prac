{
  "nbformat": 4,
  "nbformat_minor": 0,
  "metadata": {
    "colab": {
      "provenance": [],
      "authorship_tag": "ABX9TyPq5yuZIac3Kz3k4zDi44Ty",
      "include_colab_link": true
    },
    "kernelspec": {
      "name": "python3",
      "display_name": "Python 3"
    },
    "language_info": {
      "name": "python"
    }
  },
  "cells": [
    {
      "cell_type": "markdown",
      "metadata": {
        "id": "view-in-github",
        "colab_type": "text"
      },
      "source": [
        "<a href=\"https://colab.research.google.com/github/NikhilGeorge01/ML-Prac/blob/main/FeatureSelection.ipynb\" target=\"_parent\"><img src=\"https://colab.research.google.com/assets/colab-badge.svg\" alt=\"Open In Colab\"/></a>"
      ]
    },
    {
      "cell_type": "code",
      "execution_count": 2,
      "metadata": {
        "id": "q3emcSMx2GU_"
      },
      "outputs": [],
      "source": [
        "import pandas as pd\n",
        "import numpy as np\n",
        "import matplotlib.pyplot as plt\n",
        "import seaborn as sns"
      ]
    },
    {
      "cell_type": "code",
      "source": [
        "df_churn = pd.read_csv(\"customer_churn_dataset.csv\")\n",
        "df_sensor = pd.read_csv(\"sensor_maintenance_dataset.csv\")\n",
        "df_fraud = pd.read_csv(\"financial_fraud_dataset.csv\")"
      ],
      "metadata": {
        "id": "PXrKCkoW-EoT"
      },
      "execution_count": 20,
      "outputs": []
    },
    {
      "cell_type": "code",
      "source": [
        "df_churn.shape"
      ],
      "metadata": {
        "colab": {
          "base_uri": "https://localhost:8080/"
        },
        "id": "ppausQEv-gmb",
        "outputId": "14c8f65e-946d-46e7-ea01-7567091e216f"
      },
      "execution_count": 21,
      "outputs": [
        {
          "output_type": "execute_result",
          "data": {
            "text/plain": [
              "(10000, 52)"
            ]
          },
          "metadata": {},
          "execution_count": 21
        }
      ]
    },
    {
      "cell_type": "code",
      "source": [
        "df_sensor.shape"
      ],
      "metadata": {
        "colab": {
          "base_uri": "https://localhost:8080/"
        },
        "id": "j3zacQBO-RZ0",
        "outputId": "d655e885-0525-402b-9548-fd3db15fe4a6"
      },
      "execution_count": 19,
      "outputs": [
        {
          "output_type": "execute_result",
          "data": {
            "text/plain": [
              "(12000, 57)"
            ]
          },
          "metadata": {},
          "execution_count": 19
        }
      ]
    },
    {
      "cell_type": "code",
      "source": [
        "df_fraud.shape"
      ],
      "metadata": {
        "colab": {
          "base_uri": "https://localhost:8080/"
        },
        "id": "9PvpfsVU-UDT",
        "outputId": "f472e84a-47a5-4d41-9c1d-6d2d35b4f328"
      },
      "execution_count": 22,
      "outputs": [
        {
          "output_type": "execute_result",
          "data": {
            "text/plain": [
              "(15000, 69)"
            ]
          },
          "metadata": {},
          "execution_count": 22
        }
      ]
    },
    {
      "cell_type": "markdown",
      "source": [
        "**Constant , quasi constant and mutual information feature extraction for customer churn dataset**"
      ],
      "metadata": {
        "id": "Q0UvpNIt_rWL"
      }
    },
    {
      "cell_type": "code",
      "source": [
        "x_train,x_test,y_train,y_test=train_test_split(df_churn.drop('churn',axis=1),df_churn['churn'],test_size=0.2,random_state=42)"
      ],
      "metadata": {
        "id": "fb7Lz5aJ-nwj"
      },
      "execution_count": 23,
      "outputs": []
    },
    {
      "cell_type": "code",
      "source": [
        "constant_features = [feature for feature in x_train.columns if x_train[feature].std() == 0]"
      ],
      "metadata": {
        "id": "YQxP9r_q-3KD"
      },
      "execution_count": 24,
      "outputs": []
    },
    {
      "cell_type": "code",
      "source": [
        "print(len(constant_features))"
      ],
      "metadata": {
        "colab": {
          "base_uri": "https://localhost:8080/"
        },
        "id": "HS-uwEdh_PnT",
        "outputId": "602a8d86-bee5-4d48-e158-e171ef0ba8fb"
      },
      "execution_count": 25,
      "outputs": [
        {
          "output_type": "stream",
          "name": "stdout",
          "text": [
            "2\n"
          ]
        }
      ]
    },
    {
      "cell_type": "code",
      "source": [
        "x_train.drop(labels=constant_features, axis=1, inplace=True)\n",
        "x_test.drop(labels=constant_features, axis=1, inplace=True)\n",
        "\n",
        "x_train.shape, x_test.shape"
      ],
      "metadata": {
        "colab": {
          "base_uri": "https://localhost:8080/"
        },
        "id": "LTm5M9bG_Spy",
        "outputId": "59f40f98-49e6-41d4-a9fe-68436912dc5f"
      },
      "execution_count": 26,
      "outputs": [
        {
          "output_type": "execute_result",
          "data": {
            "text/plain": [
              "((8000, 49), (2000, 49))"
            ]
          },
          "metadata": {},
          "execution_count": 26
        }
      ]
    },
    {
      "cell_type": "code",
      "source": [
        "df_churn = pd.read_csv(\"customer_churn_dataset.csv\")"
      ],
      "metadata": {
        "id": "CbeY2DXsCKeg"
      },
      "execution_count": null,
      "outputs": []
    },
    {
      "cell_type": "code",
      "source": [
        "x_train,x_test,y_train,y_test=train_test_split(df_churn.drop('churn',axis=1),df_churn['churn'],test_size=0.2,random_state=42)"
      ],
      "metadata": {
        "id": "XAR4efc7CP9Q"
      },
      "execution_count": 34,
      "outputs": []
    },
    {
      "cell_type": "code",
      "source": [
        "quasi_const_feat = []\n",
        "for feature in x_train.columns:\n",
        "    predominant = (x_train[feature].value_counts() / float(len(x_train))).sort_values(ascending=False).values[0]\n",
        "    if predominant >= 0.999:\n",
        "        quasi_const_feat.append(feature)\n",
        "\n",
        "print(len(quasi_const_feat))"
      ],
      "metadata": {
        "colab": {
          "base_uri": "https://localhost:8080/"
        },
        "id": "pTIagoNK_eLS",
        "outputId": "db4747ba-c955-419a-d10e-c380e7ecbd1f"
      },
      "execution_count": 35,
      "outputs": [
        {
          "output_type": "stream",
          "name": "stdout",
          "text": [
            "2\n"
          ]
        }
      ]
    },
    {
      "cell_type": "code",
      "source": [
        "x_train.drop(labels=quasi_const_feat, axis=1, inplace=True)\n",
        "x_test.drop(labels=quasi_const_feat, axis=1, inplace=True)\n",
        "\n",
        "x_train.shape, x_test.shape"
      ],
      "metadata": {
        "colab": {
          "base_uri": "https://localhost:8080/"
        },
        "id": "GKs_J3jpBgIh",
        "outputId": "3b4839de-1bc9-4c60-a861-8ae50d626092"
      },
      "execution_count": 36,
      "outputs": [
        {
          "output_type": "execute_result",
          "data": {
            "text/plain": [
              "((8000, 49), (2000, 49))"
            ]
          },
          "metadata": {},
          "execution_count": 36
        }
      ]
    },
    {
      "cell_type": "code",
      "source": [
        "df_churn = pd.read_csv(\"customer_churn_dataset.csv\")"
      ],
      "metadata": {
        "id": "_yBJ2t4PCZyA"
      },
      "execution_count": 37,
      "outputs": []
    },
    {
      "cell_type": "code",
      "source": [
        "x_train, x_test, y_train, y_test = train_test_split(df_churn.drop('churn', axis=1), df_churn['churn'], test_size=0.2, random_state=42)"
      ],
      "metadata": {
        "id": "Hq-m7HS6DD4P"
      },
      "execution_count": 38,
      "outputs": []
    },
    {
      "cell_type": "code",
      "source": [
        "from sklearn.feature_selection import mutual_info_classif"
      ],
      "metadata": {
        "id": "puk9mVbkDlc3"
      },
      "execution_count": 40,
      "outputs": []
    },
    {
      "cell_type": "code",
      "source": [
        "mi = pd.Series(mutual_info_classif(x_train, y_train), index=x_train.columns)\n",
        "mi = mi.sort_values(ascending=False)"
      ],
      "metadata": {
        "id": "cVixD2XRDS2v"
      },
      "execution_count": 41,
      "outputs": []
    },
    {
      "cell_type": "code",
      "source": [
        "mi.sort_values(ascending=False).plot.bar(figsize=(20, 8))"
      ],
      "metadata": {
        "colab": {
          "base_uri": "https://localhost:8080/",
          "height": 691
        },
        "id": "S3OLNuesDkV-",
        "outputId": "30721e21-cf3f-4972-cea3-3f182a8ce3f3"
      },
      "execution_count": 42,
      "outputs": [
        {
          "output_type": "execute_result",
          "data": {
            "text/plain": [
              "<Axes: >"
            ]
          },
          "metadata": {},
          "execution_count": 42
        },
        {
          "output_type": "display_data",
          "data": {
            "text/plain": [
              "<Figure size 2000x800 with 1 Axes>"
            ],
            "image/png": "[encoded data removed]"
          },
          "metadata": {}
        }
      ]
    },
    {
      "cell_type": "markdown",
      "source": [
        "**Constant , quasi constant and mutual information feature extraction for customer financial fraud dataset**"
      ],
      "metadata": {
        "id": "oLNC0-yIEA3u"
      }
    },
    {
      "cell_type": "code",
      "source": [
        "df_fraud = pd.read_csv(\"financial_fraud_dataset.csv\")"
      ],
      "metadata": {
        "id": "-2mZeYaTD-dH"
      },
      "execution_count": 43,
      "outputs": []
    },
    {
      "cell_type": "code",
      "source": [
        "x_train,x_test,y_train,y_test=train_test_split(df_fraud.drop('is_fraud',axis=1),df_fraud['is_fraud'],test_size=0.2,random_state=42)"
      ],
      "metadata": {
        "id": "abLoACNyENWO"
      },
      "execution_count": 45,
      "outputs": []
    },
    {
      "cell_type": "code",
      "source": [
        "constant_features = [feature for feature in x_train.columns if x_train[feature].std() == 0]"
      ],
      "metadata": {
        "id": "XL5KwUmAEYMO"
      },
      "execution_count": 46,
      "outputs": []
    },
    {
      "cell_type": "code",
      "source": [
        "print(len(constant_features))"
      ],
      "metadata": {
        "colab": {
          "base_uri": "https://localhost:8080/"
        },
        "id": "32StejPgEgkt",
        "outputId": "f72b3a6f-fdb4-4f8f-984c-71a088038067"
      },
      "execution_count": 47,
      "outputs": [
        {
          "output_type": "stream",
          "name": "stdout",
          "text": [
            "4\n"
          ]
        }
      ]
    },
    {
      "cell_type": "code",
      "source": [
        "x_train.drop(labels=constant_features, axis=1, inplace=True)\n",
        "x_test.drop(labels=constant_features, axis=1, inplace=True)\n",
        "\n",
        "x_train.shape, x_test.shape"
      ],
      "metadata": {
        "colab": {
          "base_uri": "https://localhost:8080/"
        },
        "id": "yaxaLuF-Ekqu",
        "outputId": "c2e5d92a-80c8-4c4b-bfd8-5aab58e19e98"
      },
      "execution_count": 48,
      "outputs": [
        {
          "output_type": "execute_result",
          "data": {
            "text/plain": [
              "((12000, 64), (3000, 64))"
            ]
          },
          "metadata": {},
          "execution_count": 48
        }
      ]
    },
    {
      "cell_type": "code",
      "source": [
        "df_fraud = pd.read_csv(\"financial_fraud_dataset.csv\")"
      ],
      "metadata": {
        "id": "yhVPTHLTErE9"
      },
      "execution_count": 49,
      "outputs": []
    },
    {
      "cell_type": "code",
      "source": [
        "x_train,x_test,y_train,y_test=train_test_split(df_fraud.drop('is_fraud',axis=1),df_fraud['is_fraud'],test_size=0.2,random_state=42)"
      ],
      "metadata": {
        "id": "e0JrI5arE5wt"
      },
      "execution_count": 50,
      "outputs": []
    },
    {
      "cell_type": "code",
      "source": [
        "quasi_const_feat = []\n",
        "for feature in x_train.columns:\n",
        "    predominant = (x_train[feature].value_counts() / float(len(x_train))).sort_values(ascending=False).values[0]\n",
        "    if predominant >= 0.999:\n",
        "        quasi_const_feat.append(feature)\n",
        "\n",
        "print(len(quasi_const_feat))"
      ],
      "metadata": {
        "colab": {
          "base_uri": "https://localhost:8080/"
        },
        "id": "ScmaW6e9E8_9",
        "outputId": "1846d627-01e4-42ce-b5c0-2c435f2ab0a5"
      },
      "execution_count": 51,
      "outputs": [
        {
          "output_type": "stream",
          "name": "stdout",
          "text": [
            "4\n"
          ]
        }
      ]
    },
    {
      "cell_type": "code",
      "source": [
        "x_train.drop(labels=quasi_const_feat, axis=1, inplace=True)\n",
        "x_test.drop(labels=quasi_const_feat, axis=1, inplace=True)\n",
        "\n",
        "x_train.shape, x_test.shape"
      ],
      "metadata": {
        "colab": {
          "base_uri": "https://localhost:8080/"
        },
        "id": "EBfx2gjEFANN",
        "outputId": "ec221d4a-69b4-4669-8e2f-a0a39cddfdec"
      },
      "execution_count": 52,
      "outputs": [
        {
          "output_type": "execute_result",
          "data": {
            "text/plain": [
              "((12000, 64), (3000, 64))"
            ]
          },
          "metadata": {},
          "execution_count": 52
        }
      ]
    },
    {
      "cell_type": "code",
      "source": [
        "df_fraud = pd.read_csv(\"financial_fraud_dataset.csv\")"
      ],
      "metadata": {
        "id": "sNw79CE4FJ89"
      },
      "execution_count": 53,
      "outputs": []
    },
    {
      "cell_type": "code",
      "source": [
        "x_train,x_test,y_train,y_test=train_test_split(df_fraud.drop('is_fraud',axis=1),df_fraud['is_fraud'],test_size=0.2,random_state=42)"
      ],
      "metadata": {
        "id": "JDXGHLLVFYk-"
      },
      "execution_count": 54,
      "outputs": []
    },
    {
      "cell_type": "code",
      "source": [
        "mi = pd.Series(mutual_info_classif(x_train, y_train), index=x_train.columns)\n",
        "mi = mi.sort_values(ascending=False)"
      ],
      "metadata": {
        "id": "l4qLiqmoFeCV"
      },
      "execution_count": 55,
      "outputs": []
    },
    {
      "cell_type": "code",
      "source": [
        "mi.sort_values(ascending=False).plot.bar(figsize=(20, 8))"
      ],
      "metadata": {
        "colab": {
          "base_uri": "https://localhost:8080/",
          "height": 673
        },
        "id": "vjxjlUg4Ferc",
        "outputId": "6a0d95ab-6224-422a-bd95-590c418d4010"
      },
      "execution_count": 56,
      "outputs": [
        {
          "output_type": "execute_result",
          "data": {
            "text/plain": [
              "<Axes: >"
            ]
          },
          "metadata": {},
          "execution_count": 56
        },
        {
          "output_type": "display_data",
          "data": {
            "text/plain": [
              "<Figure size 2000x800 with 1 Axes>"
            ],
            "image/png": "[encoded data removed]"
          },
          "metadata": {}
        }
      ]
    },
    {
      "cell_type": "markdown",
      "source": [
        "**Constant , quasi constant and mutual information feature extraction for sensor maintanence dataset**"
      ],
      "metadata": {
        "id": "2-K_CMLkFoZd"
      }
    },
    {
      "cell_type": "code",
      "source": [
        "df_sensor = pd.read_csv(\"sensor_maintenance_dataset.csv\")"
      ],
      "metadata": {
        "id": "_nd0MGsOFhk8"
      },
      "execution_count": 57,
      "outputs": []
    },
    {
      "cell_type": "code",
      "source": [
        "df_sensor.head()"
      ],
      "metadata": {
        "colab": {
          "base_uri": "https://localhost:8080/",
          "height": 256
        },
        "id": "6-wVx7pcGDuk",
        "outputId": "8ed258d8-8036-47ea-ad41-648630708f15"
      },
      "execution_count": 59,
      "outputs": [
        {
          "output_type": "execute_result",
          "data": {
            "text/plain": [
              "   sensor_0  sensor_1  sensor_2   sensor_3  sensor_4  sensor_5  sensor_6  \\\n",
              "0 -5.410185  5.378142 -3.884643  -2.169631  4.123428 -0.504097  0.738248   \n",
              "1 -0.382658 -4.719085  5.953480  -3.097678 -2.270553  0.195060 -2.159634   \n",
              "2  2.177276  7.892685 -5.078570 -14.355738  3.798182 -1.305037  0.303657   \n",
              "3 -8.867607  1.713524  3.810353  -2.299291  1.617832  3.178248  0.247527   \n",
              "4 -4.141530  0.236552  4.334040   2.994789 -1.146720  2.759954  0.320348   \n",
              "\n",
              "   sensor_7  sensor_8   sensor_9  ...  sensor_47  sensor_48  sensor_49  \\\n",
              "0 -4.893472  0.404372  -1.056840  ...  -4.652365  -1.274815  -1.700723   \n",
              "1 -2.821790  0.763820   8.886841  ...   0.356394  -0.166773  -1.599835   \n",
              "2 -0.526450 -0.603719 -12.373883  ...  -9.673842  -3.098930  -0.356884   \n",
              "3 -5.284304  0.380522   4.547676  ...  -0.635768  -2.072230  -1.395087   \n",
              "4 -0.974736  0.264173   4.672749  ...  -0.211769  -0.443441   0.000516   \n",
              "\n",
              "   constant_sensor_0  constant_sensor_1  constant_sensor_2  quasi_sensor_0  \\\n",
              "0              100.0              100.0              100.0             0.0   \n",
              "1              100.0              100.0              100.0             0.0   \n",
              "2              100.0              100.0              100.0             0.0   \n",
              "3              100.0              100.0              100.0             0.0   \n",
              "4              100.0              100.0              100.0             0.0   \n",
              "\n",
              "   quasi_sensor_1  quasi_sensor_2  machine_failure  \n",
              "0             0.0             0.0                0  \n",
              "1             0.0             0.0                0  \n",
              "2             0.0             0.0                0  \n",
              "3             0.0             0.0                0  \n",
              "4             0.0             0.0                0  \n",
              "\n",
              "[5 rows x 57 columns]"
            ],
            "text/html": [
              "\n",
              "  <div id=\"df-ece35121-95b3-4d60-a548-e1d06d20c208\" class=\"colab-df-container\">\n",
              "    <div>\n",
              "<style scoped>\n",
              "    .dataframe tbody tr th:only-of-type {\n",
              "        vertical-align: middle;\n",
              "    }\n",
              "\n",
              "    .dataframe tbody tr th {\n",
              "        vertical-align: top;\n",
              "    }\n",
              "\n",
              "    .dataframe thead th {\n",
              "        text-align: right;\n",
              "    }\n",
              "</style>\n",
              "<table border=\"1\" class=\"dataframe\">\n",
              "  <thead>\n",
              "    <tr style=\"text-align: right;\">\n",
              "      <th></th>\n",
              "      <th>sensor_0</th>\n",
              "      <th>sensor_1</th>\n",
              "      <th>sensor_2</th>\n",
              "      <th>sensor_3</th>\n",
              "      <th>sensor_4</th>\n",
              "      <th>sensor_5</th>\n",
              "      <th>sensor_6</th>\n",
              "      <th>sensor_7</th>\n",
              "      <th>sensor_8</th>\n",
              "      <th>sensor_9</th>\n",
              "      <th>...</th>\n",
              "      <th>sensor_47</th>\n",
              "      <th>sensor_48</th>\n",
              "      <th>sensor_49</th>\n",
              "      <th>constant_sensor_0</th>\n",
              "      <th>constant_sensor_1</th>\n",
              "      <th>constant_sensor_2</th>\n",
              "      <th>quasi_sensor_0</th>\n",
              "      <th>quasi_sensor_1</th>\n",
              "      <th>quasi_sensor_2</th>\n",
              "      <th>machine_failure</th>\n",
              "    </tr>\n",
              "  </thead>\n",
              "  <tbody>\n",
              "    <tr>\n",
              "      <th>0</th>\n",
              "      <td>-5.410185</td>\n",
              "      <td>5.378142</td>\n",
              "      <td>-3.884643</td>\n",
              "      <td>-2.169631</td>\n",
              "      <td>4.123428</td>\n",
              "      <td>-0.504097</td>\n",
              "      <td>0.738248</td>\n",
              "      <td>-4.893472</td>\n",
              "      <td>0.404372</td>\n",
              "      <td>-1.056840</td>\n",
              "      <td>...</td>\n",
              "      <td>-4.652365</td>\n",
              "      <td>-1.274815</td>\n",
              "      <td>-1.700723</td>\n",
              "      <td>100.0</td>\n",
              "      <td>100.0</td>\n",
              "      <td>100.0</td>\n",
              "      <td>0.0</td>\n",
              "      <td>0.0</td>\n",
              "      <td>0.0</td>\n",
              "      <td>0</td>\n",
              "    </tr>\n",
              "    <tr>\n",
              "      <th>1</th>\n",
              "      <td>-0.382658</td>\n",
              "      <td>-4.719085</td>\n",
              "      <td>5.953480</td>\n",
              "      <td>-3.097678</td>\n",
              "      <td>-2.270553</td>\n",
              "      <td>0.195060</td>\n",
              "      <td>-2.159634</td>\n",
              "      <td>-2.821790</td>\n",
              "      <td>0.763820</td>\n",
              "      <td>8.886841</td>\n",
              "      <td>...</td>\n",
              "      <td>0.356394</td>\n",
              "      <td>-0.166773</td>\n",
              "      <td>-1.599835</td>\n",
              "      <td>100.0</td>\n",
              "      <td>100.0</td>\n",
              "      <td>100.0</td>\n",
              "      <td>0.0</td>\n",
              "      <td>0.0</td>\n",
              "      <td>0.0</td>\n",
              "      <td>0</td>\n",
              "    </tr>\n",
              "    <tr>\n",
              "      <th>2</th>\n",
              "      <td>2.177276</td>\n",
              "      <td>7.892685</td>\n",
              "      <td>-5.078570</td>\n",
              "      <td>-14.355738</td>\n",
              "      <td>3.798182</td>\n",
              "      <td>-1.305037</td>\n",
              "      <td>0.303657</td>\n",
              "      <td>-0.526450</td>\n",
              "      <td>-0.603719</td>\n",
              "      <td>-12.373883</td>\n",
              "      <td>...</td>\n",
              "      <td>-9.673842</td>\n",
              "      <td>-3.098930</td>\n",
              "      <td>-0.356884</td>\n",
              "      <td>100.0</td>\n",
              "      <td>100.0</td>\n",
              "      <td>100.0</td>\n",
              "      <td>0.0</td>\n",
              "      <td>0.0</td>\n",
              "      <td>0.0</td>\n",
              "      <td>0</td>\n",
              "    </tr>\n",
              "    <tr>\n",
              "      <th>3</th>\n",
              "      <td>-8.867607</td>\n",
              "      <td>1.713524</td>\n",
              "      <td>3.810353</td>\n",
              "      <td>-2.299291</td>\n",
              "      <td>1.617832</td>\n",
              "      <td>3.178248</td>\n",
              "      <td>0.247527</td>\n",
              "      <td>-5.284304</td>\n",
              "      <td>0.380522</td>\n",
              "      <td>4.547676</td>\n",
              "      <td>...</td>\n",
              "      <td>-0.635768</td>\n",
              "      <td>-2.072230</td>\n",
              "      <td>-1.395087</td>\n",
              "      <td>100.0</td>\n",
              "      <td>100.0</td>\n",
              "      <td>100.0</td>\n",
              "      <td>0.0</td>\n",
              "      <td>0.0</td>\n",
              "      <td>0.0</td>\n",
              "      <td>0</td>\n",
              "    </tr>\n",
              "    <tr>\n",
              "      <th>4</th>\n",
              "      <td>-4.141530</td>\n",
              "      <td>0.236552</td>\n",
              "      <td>4.334040</td>\n",
              "      <td>2.994789</td>\n",
              "      <td>-1.146720</td>\n",
              "      <td>2.759954</td>\n",
              "      <td>0.320348</td>\n",
              "      <td>-0.974736</td>\n",
              "      <td>0.264173</td>\n",
              "      <td>4.672749</td>\n",
              "      <td>...</td>\n",
              "      <td>-0.211769</td>\n",
              "      <td>-0.443441</td>\n",
              "      <td>0.000516</td>\n",
              "      <td>100.0</td>\n",
              "      <td>100.0</td>\n",
              "      <td>100.0</td>\n",
              "      <td>0.0</td>\n",
              "      <td>0.0</td>\n",
              "      <td>0.0</td>\n",
              "      <td>0</td>\n",
              "    </tr>\n",
              "  </tbody>\n",
              "</table>\n",
              "<p>5 rows × 57 columns</p>\n",
              "</div>\n",
              "    <div class=\"colab-df-buttons\">\n",
              "\n",
              "  <div class=\"colab-df-container\">\n",
              "    <button class=\"colab-df-convert\" onclick=\"convertToInteractive('df-ece35121-95b3-4d60-a548-e1d06d20c208')\"\n",
              "            title=\"Convert this dataframe to an interactive table.\"\n",
              "            style=\"display:none;\">\n",
              "\n",
              "  <svg xmlns=\"http://www.w3.org/2000/svg\" height=\"24px\" viewBox=\"0 -960 960 960\">\n",
              "    <path d=\"M120-120v-720h720v720H120Zm60-500h600v-160H180v160Zm220 220h160v-160H400v160Zm0 220h160v-160H400v160ZM180-400h160v-160H180v160Zm440 0h160v-160H620v160ZM180-180h160v-160H180v160Zm440 0h160v-160H620v160Z\"/>\n",
              "  </svg>\n",
              "    </button>\n",
              "\n",
              "  <style>\n",
              "    .colab-df-container {\n",
              "      display:flex;\n",
              "      gap: 12px;\n",
              "    }\n",
              "\n",
              "    .colab-df-convert {\n",
              "      background-color: #E8F0FE;\n",
              "      border: none;\n",
              "      border-radius: 50%;\n",
              "      cursor: pointer;\n",
              "      display: none;\n",
              "      fill: #1967D2;\n",
              "      height: 32px;\n",
              "      padding: 0 0 0 0;\n",
              "      width: 32px;\n",
              "    }\n",
              "\n",
              "    .colab-df-convert:hover {\n",
              "      background-color: #E2EBFA;\n",
              "      box-shadow: 0px 1px 2px rgba(60, 64, 67, 0.3), 0px 1px 3px 1px rgba(60, 64, 67, 0.15);\n",
              "      fill: #174EA6;\n",
              "    }\n",
              "\n",
              "    .colab-df-buttons div {\n",
              "      margin-bottom: 4px;\n",
              "    }\n",
              "\n",
              "    [theme=dark] .colab-df-convert {\n",
              "      background-color: #3B4455;\n",
              "      fill: #D2E3FC;\n",
              "    }\n",
              "\n",
              "    [theme=dark] .colab-df-convert:hover {\n",
              "      background-color: #434B5C;\n",
              "      box-shadow: 0px 1px 3px 1px rgba(0, 0, 0, 0.15);\n",
              "      filter: drop-shadow(0px 1px 2px rgba(0, 0, 0, 0.3));\n",
              "      fill: #FFFFFF;\n",
              "    }\n",
              "  </style>\n",
              "\n",
              "    <script>\n",
              "      const buttonEl =\n",
              "        document.querySelector('#df-ece35121-95b3-4d60-a548-e1d06d20c208 button.colab-df-convert');\n",
              "      buttonEl.style.display =\n",
              "        google.colab.kernel.accessAllowed ? 'block' : 'none';\n",
              "\n",
              "      async function convertToInteractive(key) {\n",
              "        const element = document.querySelector('#df-ece35121-95b3-4d60-a548-e1d06d20c208');\n",
              "        const dataTable =\n",
              "          await google.colab.kernel.invokeFunction('convertToInteractive',\n",
              "                                                    [key], {});\n",
              "        if (!dataTable) return;\n",
              "\n",
              "        const docLinkHtml = 'Like what you see? Visit the ' +\n",
              "          '<a target=\"_blank\" href=https://colab.research.google.com/notebooks/data_table.ipynb>data table notebook</a>'\n",
              "          + ' to learn more about interactive tables.';\n",
              "        element.innerHTML = '';\n",
              "        dataTable['output_type'] = 'display_data';\n",
              "        await google.colab.output.renderOutput(dataTable, element);\n",
              "        const docLink = document.createElement('div');\n",
              "        docLink.innerHTML = docLinkHtml;\n",
              "        element.appendChild(docLink);\n",
              "      }\n",
              "    </script>\n",
              "  </div>\n",
              "\n",
              "\n",
              "    <div id=\"df-d47c761d-16bf-4904-ae1e-e7ac8e7c424a\">\n",
              "      <button class=\"colab-df-quickchart\" onclick=\"quickchart('df-d47c761d-16bf-4904-ae1e-e7ac8e7c424a')\"\n",
              "                title=\"Suggest charts\"\n",
              "                style=\"display:none;\">\n",
              "\n",
              "<svg xmlns=\"http://www.w3.org/2000/svg\" height=\"24px\"viewBox=\"0 0 24 24\"\n",
              "     width=\"24px\">\n",
              "    <g>\n",
              "        <path d=\"M19 3H5c-1.1 0-2 .9-2 2v14c0 1.1.9 2 2 2h14c1.1 0 2-.9 2-2V5c0-1.1-.9-2-2-2zM9 17H7v-7h2v7zm4 0h-2V7h2v10zm4 0h-2v-4h2v4z\"/>\n",
              "    </g>\n",
              "</svg>\n",
              "      </button>\n",
              "\n",
              "<style>\n",
              "  .colab-df-quickchart {\n",
              "      --bg-color: #E8F0FE;\n",
              "      --fill-color: #1967D2;\n",
              "      --hover-bg-color: #E2EBFA;\n",
              "      --hover-fill-color: #174EA6;\n",
              "      --disabled-fill-color: #AAA;\n",
              "      --disabled-bg-color: #DDD;\n",
              "  }\n",
              "\n",
              "  [theme=dark] .colab-df-quickchart {\n",
              "      --bg-color: #3B4455;\n",
              "      --fill-color: #D2E3FC;\n",
              "      --hover-bg-color: #434B5C;\n",
              "      --hover-fill-color: #FFFFFF;\n",
              "      --disabled-bg-color: #3B4455;\n",
              "      --disabled-fill-color: #666;\n",
              "  }\n",
              "\n",
              "  .colab-df-quickchart {\n",
              "    background-color: var(--bg-color);\n",
              "    border: none;\n",
              "    border-radius: 50%;\n",
              "    cursor: pointer;\n",
              "    display: none;\n",
              "    fill: var(--fill-color);\n",
              "    height: 32px;\n",
              "    padding: 0;\n",
              "    width: 32px;\n",
              "  }\n",
              "\n",
              "  .colab-df-quickchart:hover {\n",
              "    background-color: var(--hover-bg-color);\n",
              "    box-shadow: 0 1px 2px rgba(60, 64, 67, 0.3), 0 1px 3px 1px rgba(60, 64, 67, 0.15);\n",
              "    fill: var(--button-hover-fill-color);\n",
              "  }\n",
              "\n",
              "  .colab-df-quickchart-complete:disabled,\n",
              "  .colab-df-quickchart-complete:disabled:hover {\n",
              "    background-color: var(--disabled-bg-color);\n",
              "    fill: var(--disabled-fill-color);\n",
              "    box-shadow: none;\n",
              "  }\n",
              "\n",
              "  .colab-df-spinner {\n",
              "    border: 2px solid var(--fill-color);\n",
              "    border-color: transparent;\n",
              "    border-bottom-color: var(--fill-color);\n",
              "    animation:\n",
              "      spin 1s steps(1) infinite;\n",
              "  }\n",
              "\n",
              "  @keyframes spin {\n",
              "    0% {\n",
              "      border-color: transparent;\n",
              "      border-bottom-color: var(--fill-color);\n",
              "      border-left-color: var(--fill-color);\n",
              "    }\n",
              "    20% {\n",
              "      border-color: transparent;\n",
              "      border-left-color: var(--fill-color);\n",
              "      border-top-color: var(--fill-color);\n",
              "    }\n",
              "    30% {\n",
              "      border-color: transparent;\n",
              "      border-left-color: var(--fill-color);\n",
              "      border-top-color: var(--fill-color);\n",
              "      border-right-color: var(--fill-color);\n",
              "    }\n",
              "    40% {\n",
              "      border-color: transparent;\n",
              "      border-right-color: var(--fill-color);\n",
              "      border-top-color: var(--fill-color);\n",
              "    }\n",
              "    60% {\n",
              "      border-color: transparent;\n",
              "      border-right-color: var(--fill-color);\n",
              "    }\n",
              "    80% {\n",
              "      border-color: transparent;\n",
              "      border-right-color: var(--fill-color);\n",
              "      border-bottom-color: var(--fill-color);\n",
              "    }\n",
              "    90% {\n",
              "      border-color: transparent;\n",
              "      border-bottom-color: var(--fill-color);\n",
              "    }\n",
              "  }\n",
              "</style>\n",
              "\n",
              "      <script>\n",
              "        async function quickchart(key) {\n",
              "          const quickchartButtonEl =\n",
              "            document.querySelector('#' + key + ' button');\n",
              "          quickchartButtonEl.disabled = true;  // To prevent multiple clicks.\n",
              "          quickchartButtonEl.classList.add('colab-df-spinner');\n",
              "          try {\n",
              "            const charts = await google.colab.kernel.invokeFunction(\n",
              "                'suggestCharts', [key], {});\n",
              "          } catch (error) {\n",
              "            console.error('Error during call to suggestCharts:', error);\n",
              "          }\n",
              "          quickchartButtonEl.classList.remove('colab-df-spinner');\n",
              "          quickchartButtonEl.classList.add('colab-df-quickchart-complete');\n",
              "        }\n",
              "        (() => {\n",
              "          let quickchartButtonEl =\n",
              "            document.querySelector('#df-d47c761d-16bf-4904-ae1e-e7ac8e7c424a button');\n",
              "          quickchartButtonEl.style.display =\n",
              "            google.colab.kernel.accessAllowed ? 'block' : 'none';\n",
              "        })();\n",
              "      </script>\n",
              "    </div>\n",
              "\n",
              "    </div>\n",
              "  </div>\n"
            ],
            "application/vnd.google.colaboratory.intrinsic+json": {
              "type": "dataframe",
              "variable_name": "df_sensor"
            }
          },
          "metadata": {},
          "execution_count": 59
        }
      ]
    },
    {
      "cell_type": "code",
      "source": [
        "x_train,x_test,y_train,y_test=train_test_split(df_sensor.drop('machine_failure',axis=1),df_sensor['machine_failure'],test_size=0.2,random_state=42)"
      ],
      "metadata": {
        "id": "azPPPQMpF9tc"
      },
      "execution_count": 60,
      "outputs": []
    },
    {
      "cell_type": "code",
      "source": [
        "constant_features = [feature for feature in x_train.columns if x_train[feature].std() == 0]"
      ],
      "metadata": {
        "id": "tD9ulpJfGBlb"
      },
      "execution_count": 61,
      "outputs": []
    },
    {
      "cell_type": "code",
      "source": [
        "print(len(constant_features))"
      ],
      "metadata": {
        "colab": {
          "base_uri": "https://localhost:8080/"
        },
        "id": "3OGUFdCnGqk7",
        "outputId": "3645cb8f-9feb-410d-e7af-3da88a62fbbd"
      },
      "execution_count": 62,
      "outputs": [
        {
          "output_type": "stream",
          "name": "stdout",
          "text": [
            "3\n"
          ]
        }
      ]
    },
    {
      "cell_type": "code",
      "source": [
        "x_train.drop(labels=constant_features, axis=1, inplace=True)\n",
        "x_test.drop(labels=constant_features, axis=1, inplace=True)\n",
        "\n",
        "x_train.shape, x_test.shape"
      ],
      "metadata": {
        "colab": {
          "base_uri": "https://localhost:8080/"
        },
        "id": "YMA76MdnGuhr",
        "outputId": "753b81f4-00de-49b3-8fb0-911e953accb6"
      },
      "execution_count": 63,
      "outputs": [
        {
          "output_type": "execute_result",
          "data": {
            "text/plain": [
              "((9600, 53), (2400, 53))"
            ]
          },
          "metadata": {},
          "execution_count": 63
        }
      ]
    },
    {
      "cell_type": "code",
      "source": [
        "df_sensor = pd.read_csv(\"sensor_maintenance_dataset.csv\")"
      ],
      "metadata": {
        "id": "ngeUNzacGx6K"
      },
      "execution_count": 64,
      "outputs": []
    },
    {
      "cell_type": "code",
      "source": [
        "x_train,x_test,y_train,y_test=train_test_split(df_sensor.drop('machine_failure',axis=1),df_sensor['machine_failure'],test_size=0.2,random_state=42)"
      ],
      "metadata": {
        "id": "IJm2m_huG1l6"
      },
      "execution_count": 65,
      "outputs": []
    },
    {
      "cell_type": "code",
      "source": [
        "quasi_const_feat = []\n",
        "for feature in x_train.columns:\n",
        "    predominant = (x_train[feature].value_counts() / float(len(x_train))).sort_values(ascending=False).values[0]\n",
        "    if predominant >= 0.999:\n",
        "        quasi_const_feat.append(feature)\n",
        "\n",
        "print(len(quasi_const_feat))"
      ],
      "metadata": {
        "colab": {
          "base_uri": "https://localhost:8080/"
        },
        "id": "3-HxVVq4G9I6",
        "outputId": "f3a82f89-829e-4fe3-d419-5d1c9f0da470"
      },
      "execution_count": 66,
      "outputs": [
        {
          "output_type": "stream",
          "name": "stdout",
          "text": [
            "3\n"
          ]
        }
      ]
    },
    {
      "cell_type": "code",
      "source": [
        "x_train.drop(labels=quasi_const_feat, axis=1, inplace=True)\n",
        "x_test.drop(labels=quasi_const_feat, axis=1, inplace=True)\n",
        "\n",
        "x_train.shape, x_test.shape"
      ],
      "metadata": {
        "colab": {
          "base_uri": "https://localhost:8080/"
        },
        "id": "qK18Wi8XHHwD",
        "outputId": "7a88496e-68c9-4540-abdb-4fcafad97bca"
      },
      "execution_count": 67,
      "outputs": [
        {
          "output_type": "execute_result",
          "data": {
            "text/plain": [
              "((9600, 53), (2400, 53))"
            ]
          },
          "metadata": {},
          "execution_count": 67
        }
      ]
    },
    {
      "cell_type": "code",
      "source": [
        "df_sensor = pd.read_csv(\"sensor_maintenance_dataset.csv\")"
      ],
      "metadata": {
        "id": "REi7WbBSHIYa"
      },
      "execution_count": 68,
      "outputs": []
    },
    {
      "cell_type": "code",
      "source": [
        "x_train,x_test,y_train,y_test=train_test_split(df_sensor.drop('machine_failure',axis=1),df_sensor['machine_failure'],test_size=0.2,random_state=42)"
      ],
      "metadata": {
        "id": "9oqD2UOCHM1T"
      },
      "execution_count": 69,
      "outputs": []
    },
    {
      "cell_type": "code",
      "source": [
        "mi = pd.Series(mutual_info_classif(x_train, y_train), index=x_train.columns)\n",
        "mi = mi.sort_values(ascending=False)"
      ],
      "metadata": {
        "id": "iDgfJoR6HQwq"
      },
      "execution_count": 70,
      "outputs": []
    },
    {
      "cell_type": "code",
      "source": [
        "mi.sort_values(ascending=False).plot.bar(figsize=(20, 8))"
      ],
      "metadata": {
        "colab": {
          "base_uri": "https://localhost:8080/",
          "height": 652
        },
        "id": "ywfJ_cgYHSHC",
        "outputId": "05c94a8b-e3e7-422d-9d50-87d3ead029b5"
      },
      "execution_count": 72,
      "outputs": [
        {
          "output_type": "execute_result",
          "data": {
            "text/plain": [
              "<Axes: >"
            ]
          },
          "metadata": {},
          "execution_count": 72
        },
        {
          "output_type": "display_data",
          "data": {
            "text/plain": [
              "<Figure size 2000x800 with 1 Axes>"
            ],
            "image/png": "[encoded data removed]"
          },
          "metadata": {}
        }
      ]
    }
  ]
}